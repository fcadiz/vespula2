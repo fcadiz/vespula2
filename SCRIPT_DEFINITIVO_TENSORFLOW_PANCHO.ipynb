{
  "nbformat": 4,
  "nbformat_minor": 0,
  "metadata": {
    "colab": {
      "name": "SCRIPT_DEFINITIVO_TENSORFLOW_PANCHO.ipynb",
      "provenance": [],
      "collapsed_sections": [],
      "include_colab_link": true
    },
    "kernelspec": {
      "display_name": "Python 3",
      "name": "python3"
    }
  },
  "cells": [
    {
      "cell_type": "markdown",
      "metadata": {
        "id": "view-in-github",
        "colab_type": "text"
      },
      "source": [
        "<a href=\"https://colab.research.google.com/github/fcadiz/vespula2/blob/master/SCRIPT_DEFINITIVO_TENSORFLOW_PANCHO.ipynb\" target=\"_parent\"><img src=\"https://colab.research.google.com/assets/colab-badge.svg\" alt=\"Open In Colab\"/></a>"
      ]
    },
    {
      "cell_type": "markdown",
      "metadata": {
        "id": "uQCnYPVDrsgx"
      },
      "source": [
        "# SUPER SCRIPT SPANGLISH ENTRENAMIENTO IA RECONOCIMIENTO OBJETOS"
      ]
    },
    {
      "cell_type": "markdown",
      "metadata": {
        "id": "yhzxsJb3dpWq"
      },
      "source": [
        "## Configs and Hyperparameters\n",
        "\n",
        "Support a variety of models, you can find more pretrained model from [Tensorflow detection model zoo: COCO-trained models](https://github.com/tensorflow/models/blob/master/research/object_detection/g3doc/detection_model_zoo.md#coco-trained-models), as well as their pipline config files in [object_detection/samples/configs/](https://github.com/tensorflow/models/tree/master/research/object_detection/samples/configs)."
      ]
    },
    {
      "cell_type": "markdown",
      "metadata": {
        "id": "6uWt9y-TSGMB"
      },
      "source": [
        "Llama a la versión estable de tensorflow 1"
      ]
    },
    {
      "cell_type": "code",
      "metadata": {
        "id": "UyxhxOx9FEZa"
      },
      "source": [
        "%tensorflow_version 1.x"
      ],
      "execution_count": null,
      "outputs": []
    },
    {
      "cell_type": "code",
      "metadata": {
        "id": "gnNXNQCjdniL"
      },
      "source": [
        "# If you forked the repository, you can replace the link.\n",
        "repo_url = 'https://github.com/fcadiz/vespula2'\n",
        " \n",
        "# Number of training steps.\n",
        "num_steps = 400000  # 200000\n",
        " \n",
        "# Number of evaluation steps.\n",
        "num_eval_steps = 150\n",
        " \n",
        "MODELS_CONFIG = {\n",
        "    'ssd_mobilenet_v2': {\n",
        "        'model_name': 'ssd_mobilenet_v2_coco_2018_03_29',\n",
        "        'pipeline_file': 'ssd_mobilenet_v2_coco.config',\n",
        "        'batch_size': 5\n",
        "    },\n",
        "    'ssd_mobilenet_v3': {\n",
        "        'model_name': 'ssd_mobilenet_v3_large_coco_2020_01_14',\n",
        "        'pipeline_file': 'ssdlite_mobilenet_v3_large_320x320_coco.config',\n",
        "        'batch_size': 40\n",
        "    },\n",
        "    'faster_rcnn_inception_v2': {\n",
        "        'model_name': 'faster_rcnn_inception_v2_coco_2018_01_28',\n",
        "        'pipeline_file': 'faster_rcnn_inception_v2_pets.config',\n",
        "        'batch_size': 12\n",
        "    },\n",
        "    'rfcn_resnet101': {\n",
        "        'model_name': 'rfcn_resnet101_coco_2018_01_28',\n",
        "        'pipeline_file': 'rfcn_resnet101_pets.config',\n",
        "        'batch_size': 8\n",
        "    }\n",
        "}\n",
        " \n",
        "# Pick the model you want to use\n",
        "# Select a model in `MODELS_CONFIG`.\n",
        "selected_model = 'ssd_mobilenet_v2'\n",
        " \n",
        "# Name of the object detection model to use.\n",
        "MODEL = MODELS_CONFIG[selected_model]['model_name']\n",
        " \n",
        "# Name of the pipline file in tensorflow object detection API.\n",
        "pipeline_file = MODELS_CONFIG[selected_model]['pipeline_file']\n",
        " \n",
        "# Training batch size fits in Colabe's Tesla K80 GPU memory for selected model.\n",
        "batch_size = MODELS_CONFIG[selected_model]['batch_size']"
      ],
      "execution_count": null,
      "outputs": []
    },
    {
      "cell_type": "markdown",
      "metadata": {
        "id": "w4V-XE6kbkc1"
      },
      "source": [
        "## Clone the `object_detection_demo` repository or your fork."
      ]
    },
    {
      "cell_type": "code",
      "metadata": {
        "id": "dxc3DmvLQF3z"
      },
      "source": [
        "import os\n",
        " \n",
        "%cd /content\n",
        " \n",
        "repo_dir_path = os.path.abspath(os.path.join('.', os.path.basename(repo_url)))\n",
        " \n",
        "!git clone {repo_url}\n",
        "%cd {repo_dir_path}\n",
        "!git pull"
      ],
      "execution_count": null,
      "outputs": []
    },
    {
      "cell_type": "markdown",
      "metadata": {
        "id": "bI8__uNS8-ns"
      },
      "source": [
        "## Install required packages"
      ]
    },
    {
      "cell_type": "code",
      "metadata": {
        "id": "ecpHEnka8Kix"
      },
      "source": [
        "%cd /content\n",
        "!git clone --quiet https://github.com/tensorflow/models.git\n",
        " \n",
        "!apt-get install -qq protobuf-compiler python-pil python-lxml python-tk lvis protobuf\n",
        "\n",
        "!pip install lvis\n",
        "\n",
        " \n",
        "!pip install -q Cython contextlib2 pillow lxml matplotlib lvis protobuf\n",
        " \n",
        "!pip install -q pycocotools\n",
        " \n",
        "%cd /content/models/research/\n",
        "!pip install .\n",
        " \n",
        "%cd /content/models/research/slim\n",
        "!pip install .\n",
        " \n",
        "%cd /content/models/research\n",
        "!protoc object_detection/protos/*.proto --python_out=.\n",
        "\n",
        "import os\n",
        "os.environ['PYTHONPATH'] += ':/content/models/research/:/content/models/research/slim/'\n",
        " \n",
        "!python object_detection/builders/model_builder_test.py\n",
        "\n",
        "!pip install -q torchvision"
      ],
      "execution_count": null,
      "outputs": []
    },
    {
      "cell_type": "markdown",
      "metadata": {
        "id": "u-k7uGThXlny"
      },
      "source": [
        "## Prepare `tfrecord` files\n",
        "\n",
        "Use the following scripts to generate the `tfrecord` files.\n",
        "```bash\n",
        "# Convert train folder annotation xml files to a single csv file,\n",
        "# generate the `label_map.pbtxt` file to `data/` directory as well.\n",
        "python xml_to_csv.py -i data/images/train -o data/annotations/train_labels.csv -l data/annotations\n",
        "\n",
        "# Convert test folder annotation xml files to a single csv.\n",
        "python xml_to_csv.py -i data/images/test -o data/annotations/test_labels.csv\n",
        "\n",
        "# Generate `train.record`\n",
        "python generate_tfrecord.py --csv_input=data/annotations/train_labels.csv --output_path=data/annotations/train.record --img_path=data/images/train --label_map data/annotations/label_map.pbtxt\n",
        "\n",
        "# Generate `test.record`\n",
        "python generate_tfrecord.py --csv_input=data/annotations/test_labels.csv --output_path=data/annotations/test.record --img_path=data/images/test --label_map data/annotations/label_map.pbtxt\n",
        "```"
      ]
    },
    {
      "cell_type": "code",
      "metadata": {
        "id": "ezGDABRXXhPP"
      },
      "source": [
        "%cd {repo_dir_path}\n",
        " \n",
        "# Convert train folder annotation xml files to a single csv file,\n",
        "# generate the `label_map.pbtxt` file to `data/` directory as well.\n",
        "!python xml_to_csv.py -i /content/vespula2 -o data/annotations/train_labels.csv -l data/annotations\n",
        " \n",
        "# Convert test folder annotation xml files to a single csv.\n",
        "!python xml_to_csv.py -i /content/vespula2 -o data/annotations/test_labels.csv\n",
        " \n",
        "# Generate `train.record`\n",
        "!python generate_tfrecord.py --csv_input=data/annotations/train_labels.csv --output_path=data/annotations/train.record --img_path=/content/vespula2/data/images/train --label_map data/annotations/label_map.pbtxt\n",
        " \n",
        "# Generate `test.record`\n",
        "!python generate_tfrecord.py --csv_input=data/annotations/test_labels.csv --output_path=data/annotations/test.record --img_path=/content/vespula2/data/images/test --label_map data/annotations/label_map.pbtxt\n",
        " \n",
        "# Convert train folder annotation xml files to a single csv file,\n",
        "# generate the `label_map.pbtxt` file to `data/` directory as well.\n",
        "!python xml_to_csv.py -i data/images/train -o data/annotations/train_labels.csv -l data/annotations\n",
        " \n",
        "# Convert test folder annotation xml files to a single csv.\n",
        "!python xml_to_csv.py -i data/images/test -o data/annotations/test_labels.csv\n",
        " \n",
        "# Generate `train.record`\n",
        "!python generate_tfrecord.py --csv_input=/content/vespula2/data/annotations/train_labels.csv --output_path=data/annotations/train.record --img_path=/content/vespula2/data/images/train --label_map data/annotations/label_map.pbtxt\n",
        " \n",
        "# Generate `test.record`\n",
        "!python generate_tfrecord.py --csv_input=/content/vespula2/data/annotations/test_labels.csv --output_path=data/annotations/test.record --img_path=/content/vespula2/data/images/test --label_map data/annotations/label_map.pbtxt"
      ],
      "execution_count": null,
      "outputs": []
    },
    {
      "cell_type": "code",
      "metadata": {
        "id": "tgd-fzAIkZlV"
      },
      "source": [
        "test_record_fname = '/content/vespula2/data/annotations/test.record'\n",
        "train_record_fname = '/content/vespula2/data/annotations/train.record'\n",
        "label_map_pbtxt_fname = '/content/vespula2/data/annotations/label_map.pbtxt'"
      ],
      "execution_count": null,
      "outputs": []
    },
    {
      "cell_type": "markdown",
      "metadata": {
        "id": "iCNYAaC7w6N8"
      },
      "source": [
        "## Download base model"
      ]
    },
    {
      "cell_type": "code",
      "metadata": {
        "id": "orDCj6ihgUMR"
      },
      "source": [
        "%cd /content/models/research\n",
        " \n",
        "import os\n",
        "import shutil\n",
        "import glob\n",
        "import urllib.request\n",
        "import tarfile\n",
        "MODEL_FILE = MODEL + '.tar.gz'\n",
        "DOWNLOAD_BASE = 'http://download.tensorflow.org/models/object_detection/'\n",
        "DEST_DIR = '/content/models/research/pretrained_model'\n",
        "model_dir= '/content/models/research/pretrained_model'\n",
        " \n",
        "if not (os.path.exists(MODEL_FILE)):\n",
        "    urllib.request.urlretrieve(DOWNLOAD_BASE + MODEL_FILE, MODEL_FILE)\n",
        " \n",
        "tar = tarfile.open(MODEL_FILE)\n",
        "tar.extractall()\n",
        "tar.close()\n",
        " \n",
        "os.remove(MODEL_FILE)\n",
        "if (os.path.exists(DEST_DIR)):\n",
        "    shutil.rmtree(DEST_DIR)\n",
        "os.rename(MODEL, DEST_DIR)"
      ],
      "execution_count": null,
      "outputs": []
    },
    {
      "cell_type": "markdown",
      "metadata": {
        "id": "cqw9v0PGTRfT"
      },
      "source": [
        "**Agregar aquí el path de Drive en la que se guardarán los resultados parciales del entrenamiento**"
      ]
    },
    {
      "cell_type": "code",
      "metadata": {
        "id": "hUYCalr6SsWo"
      },
      "source": [
        "drive_dir= '/content/drive/My Drive/colab_10_11_2020/'"
      ],
      "execution_count": null,
      "outputs": []
    },
    {
      "cell_type": "code",
      "metadata": {
        "id": "pGhvAObeiIix"
      },
      "source": [
        "!echo {DEST_DIR}\n",
        "!ls -alh {DEST_DIR}"
      ],
      "execution_count": null,
      "outputs": []
    },
    {
      "cell_type": "code",
      "metadata": {
        "id": "UHnxlfRznPP3"
      },
      "source": [
        "fine_tune_checkpoint = os.path.join(DEST_DIR, \"model.ckpt\")\n",
        "fine_tune_checkpoint"
      ],
      "execution_count": null,
      "outputs": []
    },
    {
      "cell_type": "markdown",
      "metadata": {
        "id": "MvwtHlLOeRJD"
      },
      "source": [
        "## Configuring a Training Pipeline"
      ]
    },
    {
      "cell_type": "code",
      "metadata": {
        "id": "dIhw7IdpLuiU"
      },
      "source": [
        "import os\n",
        "pipeline_fname = os.path.join('/content/models/research/object_detection/samples/configs/', pipeline_file)\n",
        "#pipeline_fname = os.path.join('/content/drive/My Drive/colab_2_11_2020/', pipeline_file)\n",
        " \n",
        "assert os.path.isfile(pipeline_fname), '`{}` not exist'.format(pipeline_fname)"
      ],
      "execution_count": null,
      "outputs": []
    },
    {
      "cell_type": "code",
      "metadata": {
        "id": "fG1nCNpUXcRU"
      },
      "source": [
        "def get_num_classes(pbtxt_fname):\n",
        "    from object_detection.utils import label_map_util\n",
        "    label_map = label_map_util.load_labelmap(pbtxt_fname)\n",
        "    categories = label_map_util.convert_label_map_to_categories(\n",
        "        label_map, max_num_classes=90, use_display_name=True)\n",
        "    category_index = label_map_util.create_category_index(categories)\n",
        "    return len(category_index.keys())"
      ],
      "execution_count": null,
      "outputs": []
    },
    {
      "cell_type": "code",
      "metadata": {
        "id": "YjtCbLF2i0wI"
      },
      "source": [
        "import re\n",
        " \n",
        "num_classes = get_num_classes(label_map_pbtxt_fname)\n",
        "with open(pipeline_fname) as f:\n",
        "    s = f.read()\n",
        "with open(pipeline_fname, 'w') as f:\n",
        "    \n",
        "    # fine_tune_checkpoint\n",
        "    s = re.sub('fine_tune_checkpoint: \".*?\"',\n",
        "               'fine_tune_checkpoint: \"{}\"'.format(fine_tune_checkpoint), s)\n",
        "    \n",
        "    # tfrecord files train and test.\n",
        "    s = re.sub(\n",
        "        '(input_path: \".*?)(train.record)(.*?\")', 'input_path: \"{}\"'.format(train_record_fname), s)\n",
        "    s = re.sub(\n",
        "        '(input_path: \".*?)(val.record)(.*?\")', 'input_path: \"{}\"'.format(test_record_fname), s)\n",
        " \n",
        "    # label_map_path\n",
        "    s = re.sub(\n",
        "        'label_map_path: \".*?\"', 'label_map_path: \"{}\"'.format(label_map_pbtxt_fname), s)\n",
        " \n",
        "    # Set training batch_size.\n",
        "    s = re.sub('batch_size: [0-9]+',\n",
        "               'batch_size: {}'.format(batch_size), s)\n",
        " \n",
        "    # Set training steps, num_steps\n",
        "    s = re.sub('num_steps: [0-9]+',\n",
        "               'num_steps: {}'.format(num_steps), s)\n",
        "    \n",
        "    # Set number of classes num_classes.\n",
        "    s = re.sub('num_classes: [0-9]+',\n",
        "               'num_classes: {}'.format(num_classes), s)\n",
        "    f.write(s)"
      ],
      "execution_count": null,
      "outputs": []
    },
    {
      "cell_type": "code",
      "metadata": {
        "id": "GH0MEEanocn6"
      },
      "source": [
        "!cat {pipeline_fname}"
      ],
      "execution_count": null,
      "outputs": []
    },
    {
      "cell_type": "markdown",
      "metadata": {
        "id": "_kzbCIDxT7q3"
      },
      "source": [
        "Montar drive"
      ]
    },
    {
      "cell_type": "code",
      "metadata": {
        "id": "25DO7w-ZWUSA"
      },
      "source": [
        "from google.colab import drive\n",
        "drive.mount('/content/drive')"
      ],
      "execution_count": null,
      "outputs": []
    },
    {
      "cell_type": "markdown",
      "metadata": {
        "id": "Z-f3zkSKT-cT"
      },
      "source": [
        "Elimina la carpeta local de destino en la que se copian los checkpoint parciales o finales del Drive"
      ]
    },
    {
      "cell_type": "code",
      "metadata": {
        "id": "f11w0uO3jFCB"
      },
      "source": [
        "# Optionally remove content in output model directory to fresh start.\n",
        "!rm -rf {model_dir}\n",
        "# os.makedirs(model_dir, exist_ok=True)"
      ],
      "execution_count": null,
      "outputs": []
    },
    {
      "cell_type": "markdown",
      "metadata": {
        "id": "23TECXvNezIF"
      },
      "source": [
        "## Run Tensorboard(Optional)"
      ]
    },
    {
      "cell_type": "code",
      "metadata": {
        "id": "0H2PZs-mSCmO"
      },
      "source": [
        "!wget https://bin.equinox.io/c/4VmDzA7iaHb/ngrok-stable-linux-amd64.zip\n",
        "!unzip -o ngrok-stable-linux-amd64.zip"
      ],
      "execution_count": null,
      "outputs": []
    },
    {
      "cell_type": "code",
      "metadata": {
        "id": "G8o6r1o5SC5M"
      },
      "source": [
        "LOG_DIR = '/content/drive/My Drive/colab_8_11_2020'\n",
        "get_ipython().system_raw(\n",
        "    'tensorboard --logdir {} --host 0.0.0.0 --port 6006 &'\n",
        "    .format(LOG_DIR)\n",
        ")"
      ],
      "execution_count": null,
      "outputs": []
    },
    {
      "cell_type": "code",
      "metadata": {
        "id": "Ge1OX7gcSC7S"
      },
      "source": [
        "get_ipython().system_raw('./ngrok http 6006 &')"
      ],
      "execution_count": null,
      "outputs": []
    },
    {
      "cell_type": "markdown",
      "metadata": {
        "id": "m5GSGxZNh8rp"
      },
      "source": [
        "### Get Tensorboard link"
      ]
    },
    {
      "cell_type": "code",
      "metadata": {
        "id": "rjhPT9iPSJ6T"
      },
      "source": [
        "! curl -s http://localhost:4040/api/tunnels | python3 -c \\\n",
        "    \"import sys, json; print(json.load(sys.stdin)['tunnels'][0]['public_url'])\""
      ],
      "execution_count": null,
      "outputs": []
    },
    {
      "cell_type": "markdown",
      "metadata": {
        "id": "JDddx2rPfex9"
      },
      "source": [
        "## Train the model"
      ]
    },
    {
      "cell_type": "code",
      "metadata": {
        "id": "CjDHjhKQofT5"
      },
      "source": [
        "!python /content/models/research/object_detection/model_main.py \\\n",
        "    --pipeline_config_path={pipeline_fname} \\\n",
        "    --model_dir={model_dir} \\\n",
        "    --alsologtostderr \\\n",
        "    --num_train_steps={num_steps} \\\n",
        "    --num_eval_steps={num_eval_steps}"
      ],
      "execution_count": null,
      "outputs": []
    },
    {
      "cell_type": "markdown",
      "metadata": {
        "id": "nu3Ipq70Ux2m"
      },
      "source": [
        "se deben guardar los archivos en esa carpeta del drive, y se puede seguir entrenando al aumentar el número de pasos en la programación al comienzo del cuaderno.\n",
        "Después se echa a correr de nuevo y continúa el entrenamiento, que comienza en el paso anterior."
      ]
    },
    {
      "cell_type": "code",
      "metadata": {
        "id": "8DsZSDZdq0h3"
      },
      "source": [
        "# cd /content/vespula2/modelo_definitivo\n",
        "# cd /content/vespula2\n",
        "!cd {model_dir}"
      ],
      "execution_count": null,
      "outputs": []
    },
    {
      "cell_type": "code",
      "metadata": {
        "id": "KP-tUdtnRybs"
      },
      "source": [
        "!ls {model_dir}"
      ],
      "execution_count": null,
      "outputs": []
    },
    {
      "cell_type": "markdown",
      "metadata": {
        "id": "tvybxpti6hxa"
      },
      "source": [
        "la de abajo es para limpiar la carpeta local en la que se guardará la info que está en el drive"
      ]
    },
    {
      "cell_type": "code",
      "metadata": {
        "id": "nqyqts8sypp_"
      },
      "source": [
        "# limpiar la carpeta local de destino\n",
        "!rm -rf {'/content/models/research/pretrained_model'}\n",
        "# os.makedirs('/content/models/research/pretrained_model', exist_ok=True)"
      ],
      "execution_count": null,
      "outputs": []
    },
    {
      "cell_type": "markdown",
      "metadata": {
        "id": "TmN-8xzyoueR"
      },
      "source": [
        "para copiar algún estadio intermedio del análisis en un punto x del tiempo de entrenamiento"
      ]
    },
    {
      "cell_type": "code",
      "metadata": {
        "id": "G8rIx2Z61TMu"
      },
      "source": [
        "%cp -r '{drive_dir}' 'os.path.join(model_dir, 'intermedio_NUM_ULT_CHECK')'"
      ],
      "execution_count": null,
      "outputs": []
    },
    {
      "cell_type": "markdown",
      "metadata": {
        "id": "DuumykalZnSg"
      },
      "source": [
        "Copiar desde Drive a Local"
      ]
    },
    {
      "cell_type": "code",
      "metadata": {
        "id": "KspYAB27bjMt"
      },
      "source": [
        "%cp -r '{drive_dir}' '{model_dir}'"
      ],
      "execution_count": null,
      "outputs": []
    },
    {
      "cell_type": "code",
      "metadata": {
        "id": "yPl8Ia37dkGb"
      },
      "source": [
        "!cd {model_dir}"
      ],
      "execution_count": null,
      "outputs": []
    },
    {
      "cell_type": "code",
      "metadata": {
        "id": "RdyS3PD0drm_"
      },
      "source": [
        "!ls {model_dir}"
      ],
      "execution_count": null,
      "outputs": []
    },
    {
      "cell_type": "code",
      "metadata": {
        "id": "_1Nrqw3nqnCh"
      },
      "source": [
        "# Legacy way of training(also works).\n",
        "# !python /content/models/research/object_detection/legacy/train.py --logtostderr --train_dir={model_dir} --pipeline_config_path={pipeline_fname}"
      ],
      "execution_count": null,
      "outputs": []
    },
    {
      "cell_type": "markdown",
      "metadata": {
        "id": "OmSESMetj1sa"
      },
      "source": [
        "## Exporting a Trained Inference Graph\n",
        "/content/models/research/fine_tuned_model/frozen_inference_graph.pb"
      ]
    },
    {
      "cell_type": "code",
      "metadata": {
        "id": "6mKva-b4coaY"
      },
      "source": [
        "!rm -rf {'/content/models/research/fine_tuned_model'}"
      ],
      "execution_count": null,
      "outputs": []
    },
    {
      "cell_type": "code",
      "metadata": {
        "id": "DHoP90pUyKSq"
      },
      "source": [
        "import re\n",
        "import numpy as np\n",
        "\n",
        "output_directory = './fine_tuned_model'\n",
        "\n",
        "lst = os.listdir(model_dir)\n",
        "lst = [l for l in lst if 'model.ckpt-' in l and '.meta' in l]\n",
        "steps=np.array([int(re.findall('\\d+', l)[0]) for l in lst])\n",
        "last_model = lst[steps.argmax()].replace('.meta', '')\n",
        "\n",
        "last_model_path = os.path.join(model_dir, last_model)\n",
        "print(last_model_path)\n",
        "!python /content/models/research/object_detection/export_inference_graph.py \\\n",
        "    --input_type=image_tensor \\\n",
        "    --pipeline_config_path={pipeline_fname} \\\n",
        "    --output_directory={output_directory} \\\n",
        "    --trained_checkpoint_prefix={last_model_path}"
      ],
      "execution_count": null,
      "outputs": []
    },
    {
      "cell_type": "markdown",
      "metadata": {
        "id": "Ti4s9rcqrWdN"
      },
      "source": [
        "# Exporting a TFLite compatible Frozen Graph"
      ]
    },
    {
      "cell_type": "code",
      "metadata": {
        "id": "46svLY6mJtXh"
      },
      "source": [
        "!python /content/models/research/object_detection/export_tflite_ssd_graph.py \\\n",
        "--pipeline_config_path='/content/models/research/fine_tuned_model/pipeline.config' \\\n",
        "--trained_checkpoint_prefix={last_model_path} \\\n",
        "--output_directory='./fine_tuned_model' \\\n",
        "--add_postprocessing_op=True"
      ],
      "execution_count": null,
      "outputs": []
    },
    {
      "cell_type": "markdown",
      "metadata": {
        "id": "NFyEhksraA_a"
      },
      "source": [
        "Transformar a detect.tflite"
      ]
    },
    {
      "cell_type": "code",
      "metadata": {
        "id": "GEi9v4imaN2B"
      },
      "source": [
        "!toco \\\n",
        "--graph_def_file='/content/models/research/fine_tuned_model/tflite_graph.pb' \\\n",
        "--output_file='/content/models/research/fine_tuned_model/detect.tflite' \\\n",
        "--input_shapes=1,300,300,3 \\\n",
        "--input_arrays=normalized_input_image_tensor \\\n",
        "--output_arrays='TFLite_Detection_PostProcess','TFLite_Detection_PostProcess:1','TFLite_Detection_PostProcess:2','TFLite_Detection_PostProcess:3'  \\\n",
        "--inference_type=FLOAT \\\n",
        "--allow_custom_ops"
      ],
      "execution_count": null,
      "outputs": []
    },
    {
      "cell_type": "markdown",
      "metadata": {
        "id": "3e4MNJJGgAev"
      },
      "source": [
        "Este es el saved_model.pb y ya está listo"
      ]
    },
    {
      "cell_type": "code",
      "metadata": {
        "id": "MtB4jUNvf_Sf"
      },
      "source": [
        "/content/models/research/fine_tuned_model/saved_model/saved_model.pb"
      ],
      "execution_count": null,
      "outputs": []
    },
    {
      "cell_type": "markdown",
      "metadata": {
        "id": "UPfOEpZMT5Hv"
      },
      "source": [
        "# con este se copian todos los archivos resultantes de regreso al drive"
      ]
    },
    {
      "cell_type": "code",
      "metadata": {
        "id": "E2KJkFN8UAc-"
      },
      "source": [
        "%cp -r '/content/models/research/fine_tuned_model' 'os.path.join(drive_dir, 'resultados_NUM_ULT_CHECK')'"
      ],
      "execution_count": null,
      "outputs": []
    },
    {
      "cell_type": "code",
      "metadata": {
        "id": "XtZH5Q_EUxm0"
      },
      "source": [
        ""
      ],
      "execution_count": null,
      "outputs": []
    },
    {
      "cell_type": "markdown",
      "metadata": {
        "id": "TGbpNFaAiQOi"
      },
      "source": [
        "# Pack Metadata"
      ]
    },
    {
      "cell_type": "code",
      "metadata": {
        "id": "BAUe0zg4iTSw"
      },
      "source": [
        "!pip install tflite-support"
      ],
      "execution_count": null,
      "outputs": []
    },
    {
      "cell_type": "code",
      "metadata": {
        "id": "-cyIu0F1iT9H"
      },
      "source": [
        "from tflite_support import flatbuffers\n",
        "from tflite_support import metadata as _metadata\n",
        "from tflite_support import metadata_schema_py_generated as _metadata_fb\n",
        "\n",
        "\"\"\" ... \"\"\"\n",
        "\"\"\"Creates the metadata for an image classifier.\"\"\"\n",
        "\n",
        "# Creates model info.\n",
        "model_meta = _metadata_fb.ModelMetadataT()\n",
        "model_meta.name = \"MobileNetV2 SSD OID TF1 300x300 Object Detector\"\n",
        "model_meta.description = (\"Permite localizar e identificar avispas, abejas \"\n",
        "                          \"y otros insectos. Versión en entrenamiento \")\n",
        "model_meta.version = \"v1\"\n",
        "model_meta.author = \"FC\"\n",
        "model_meta.license = (\"Apache License. Version 2.0 \"\n",
        "                      \"http://www.apache.org/licenses/LICENSE-2.0.\")"
      ],
      "execution_count": null,
      "outputs": []
    },
    {
      "cell_type": "code",
      "metadata": {
        "id": "qBjn2vaGiV6T"
      },
      "source": [
        "# Creates input info.\n",
        "input_meta = _metadata_fb.TensorMetadataT()\n",
        "\n",
        "# Creates output info.\n",
        "output_meta = _metadata_fb.TensorMetadataT()"
      ],
      "execution_count": null,
      "outputs": []
    },
    {
      "cell_type": "code",
      "metadata": {
        "id": "Bmi4xSHziXlg"
      },
      "source": [
        "input_meta.name = \"image\"\n",
        "input_meta.description = (\n",
        "    \"Input image to be classified. The expected image is {0} x {1}, with \"\n",
        "    \"three channels (red, blue, and green) per pixel. Each value in the \"\n",
        "    \"tensor is a single byte between 0 and 255.\".format(300, 300))\n",
        "input_meta.content = _metadata_fb.ContentT()\n",
        "input_meta.content.contentProperties = _metadata_fb.ImagePropertiesT()\n",
        "input_meta.content.contentProperties.colorSpace = (\n",
        "    _metadata_fb.ColorSpaceType.RGB)\n",
        "input_meta.content.contentPropertiesType = (\n",
        "    _metadata_fb.ContentProperties.ImageProperties)\n",
        "input_normalization = _metadata_fb.ProcessUnitT()\n",
        "input_normalization.optionsType = (\n",
        "    _metadata_fb.ProcessUnitOptions.NormalizationOptions)\n",
        "input_normalization.options = _metadata_fb.NormalizationOptionsT()\n",
        "input_normalization.options.mean = [127.5]\n",
        "input_normalization.options.std = [127.5]\n",
        "input_meta.processUnits = [input_normalization]\n",
        "input_stats = _metadata_fb.StatsT()\n",
        "input_stats.max = [255]\n",
        "input_stats.min = [0]\n",
        "input_meta.stats = input_stats"
      ],
      "execution_count": null,
      "outputs": []
    },
    {
      "cell_type": "markdown",
      "metadata": {
        "id": "oRU6VVGnU9iF"
      },
      "source": [
        "**cambiar direcciones de los archivos reales**"
      ]
    },
    {
      "cell_type": "code",
      "metadata": {
        "id": "M91maCpMiaRQ"
      },
      "source": [
        "labelmap_file = \"/content/assets/labelmap.txt\"\n",
        "\n",
        "\n",
        "export_model_path = \"/content/assets/detect.tflite\""
      ],
      "execution_count": null,
      "outputs": []
    },
    {
      "cell_type": "code",
      "metadata": {
        "id": "8vsDKVxVw2f2"
      },
      "source": [
        "import os"
      ],
      "execution_count": null,
      "outputs": []
    },
    {
      "cell_type": "code",
      "metadata": {
        "id": "6hA9tiUmiboY"
      },
      "source": [
        "# Creates output info.\n",
        "output_meta = _metadata_fb.TensorMetadataT()\n",
        "output_meta.name = \"probabilidad\"\n",
        "output_meta.description = \"Probabilidad de detectar los insectos.\"\n",
        "output_meta.content = _metadata_fb.ContentT()\n",
        "output_meta.content.content_properties = _metadata_fb.FeaturePropertiesT()\n",
        "output_meta.content.contentPropertiesType = (\n",
        "    _metadata_fb.ContentProperties.FeatureProperties)\n",
        "output_stats = _metadata_fb.StatsT()\n",
        "output_stats.max = [1.0]\n",
        "output_stats.min = [0.0]\n",
        "output_meta.stats = output_stats\n",
        "label_file = _metadata_fb.AssociatedFileT()\n",
        "label_file.name = os.path.basename(labelmap_file)\n",
        "label_file.description = \"Etiquetas para los insectos que el modelo puede reconocer.\"\n",
        "label_file.type = _metadata_fb.AssociatedFileType.TENSOR_AXIS_LABELS\n",
        "output_meta.associatedFiles = [label_file]"
      ],
      "execution_count": null,
      "outputs": []
    },
    {
      "cell_type": "code",
      "metadata": {
        "id": "JRbxwvMyidEL"
      },
      "source": [
        "# Creates subgraph info.\n",
        "subgraph = _metadata_fb.SubGraphMetadataT()\n",
        "subgraph.inputTensorMetadata = [input_meta]\n",
        "subgraph.outputTensorMetadata = [output_meta, output_meta, output_meta, output_meta]\n",
        "model_meta.subgraphMetadata = [subgraph]\n",
        "\n",
        "b = flatbuffers.Builder(0)\n",
        "b.Finish(\n",
        "    model_meta.Pack(b),\n",
        "    _metadata.MetadataPopulator.METADATA_FILE_IDENTIFIER)\n",
        "metadata_buf = b.Output()"
      ],
      "execution_count": null,
      "outputs": []
    },
    {
      "cell_type": "code",
      "metadata": {
        "id": "EOdaPDwoidaC"
      },
      "source": [
        "\n",
        "populator = _metadata.MetadataPopulator.with_model_file(export_model_path)\n",
        "populator.load_metadata_buffer(metadata_buf)\n",
        "populator.load_associated_files([labelmap_file])\n",
        "populator.populate()"
      ],
      "execution_count": null,
      "outputs": []
    },
    {
      "cell_type": "markdown",
      "metadata": {
        "id": "0Famh3TtVKUW"
      },
      "source": [
        "**cambiar también la dirección de abajo**"
      ]
    },
    {
      "cell_type": "code",
      "metadata": {
        "id": "2P9hZRYlieup"
      },
      "source": [
        "\n",
        "displayer = _metadata.MetadataDisplayer.with_model_file(export_model_path)\n",
        "export_json_file = os.path.join(\"/content/assets/\", #\"detect.json\")\n",
        "                    os.path.splitext(os.path.basename(export_model_path))[0] + \".json\")\n",
        "json_file = displayer.get_metadata_json()\n",
        "# Optional: write out the metadata as a json file\n",
        "with open(export_json_file, \"w\") as f:\n",
        "  f.write(json_file)"
      ],
      "execution_count": null,
      "outputs": []
    },
    {
      "cell_type": "markdown",
      "metadata": {
        "id": "gK_MAhGe4atz"
      },
      "source": [
        "# Descargar video"
      ]
    },
    {
      "cell_type": "markdown",
      "metadata": {
        "id": "vbFsZQep3fOZ"
      },
      "source": [
        "abrir Drive"
      ]
    },
    {
      "cell_type": "code",
      "metadata": {
        "id": "rbf1JzxB07gQ"
      },
      "source": [
        "from google.colab import drive\n",
        "drive.mount('/content/drive')"
      ],
      "execution_count": null,
      "outputs": []
    },
    {
      "cell_type": "markdown",
      "metadata": {
        "id": "M4hV-hiM3cZe"
      },
      "source": [
        "instalar youtube-dl"
      ]
    },
    {
      "cell_type": "code",
      "metadata": {
        "id": "acpO0FpK6OD2"
      },
      "source": [
        "!pip install --upgrade youtube-dl"
      ],
      "execution_count": null,
      "outputs": []
    },
    {
      "cell_type": "markdown",
      "metadata": {
        "id": "G8aQQk4J0k1X"
      },
      "source": [
        "Definir carpeta en la que se guardarán los videos"
      ]
    },
    {
      "cell_type": "code",
      "metadata": {
        "id": "2Kt1JW52-k_b"
      },
      "source": [
        "%cd /content/drive/My Drive/training_images/videos/vespula_germanica"
      ],
      "execution_count": null,
      "outputs": []
    },
    {
      "cell_type": "markdown",
      "metadata": {
        "id": "K9ncBTkY0ZEG"
      },
      "source": [
        "Descargar listado de videos, solo agregando los 11 alfanuméricos del nombre separados por un espacio"
      ]
    },
    {
      "cell_type": "code",
      "metadata": {
        "id": "_-DbB12kIFtF"
      },
      "source": [
        "!python3 getvideo.py Ons6X1wB7gY fvTlhHIp1rI fs2KOirLwm8 btXkdmEs9Lc MI41doGgKt8 bDuZkbV33lA pNI6BLDGwKA 61uLheWI_Y4 c4dxeKeOOUc bX40kC56ci0 TCMbKCdzEzg B0vNi7oNhq0 urI99LWXJIg a73BZKHEL20 rXCPTN5A6rA 1e1SoyUJ3WA IiQJhEwW1q8 BdymgM_BMRA lUy-dhDcFik n518zRlTBnA IA3Um5JtMqU cpbtQAaO2pA kB7oEVBuADs pLUcYfTjYYo Qrxxw3dV-sc m-JZXwYDVRo AM-vJDaUCAE rBWYUqzXXtY pGUl_3onSn4 uKKyq6LuHfY XGLkis4xyu4 _67Iz3331tg DOa3AXPoU3A WlDN5cIRevQ Hl0XNj93cmg #¿NOMBRE? BnthjmjFOOU 2TmoKH0kP9c YI86A-kcHPU Sqc0wyUx_j0 dcY7XnaBg14 8aSnlG8Zelw 5xdjD3qltto m97M4LTQFGk CwcsZBST3DY h7M-SpKSVKs 9rCoaqiyxIU u3mQJnvYxjg sIDKrFX1dO0 qilS3bZaoG0 Qf0fLsZCSJ4 NL8acsU864g P0ALo5J9RaI 1zecC7qTxjo QnHqy1UDnUc PpU-XgkoNiU urI99LWXJIg 1e1SoyUJ3WA   "
      ],
      "execution_count": null,
      "outputs": []
    },
    {
      "cell_type": "markdown",
      "metadata": {
        "id": "wVPEWiSJ3UNh"
      },
      "source": [
        "revisar el listado de videos descargados"
      ]
    },
    {
      "cell_type": "code",
      "metadata": {
        "id": "fiCTj4wJBr2W"
      },
      "source": [
        "%ls"
      ],
      "execution_count": null,
      "outputs": []
    },
    {
      "cell_type": "markdown",
      "metadata": {
        "id": "3slNP_sE3Wra"
      },
      "source": [
        "mover videos a diferentes carpetas, de acuerdo a la extensión"
      ]
    },
    {
      "cell_type": "code",
      "metadata": {
        "id": "7ayfQ0EjBgZn"
      },
      "source": [
        "%mkdir /content/drive/My\\ Drive/training_images/videos/tmp1\n",
        "%cp -r '/content/drive/My Drive/training_images/videos/vespula_germanica/'*.mkv '/content/drive/My Drive/training_images/videos/tmp1'\n",
        "%mkdir /content/drive/My\\ Drive/training_images/videos/tmp2\n",
        "%cp -r '/content/drive/My Drive/training_images/videos/vespula_germanica/'*.mp4 '/content/drive/My Drive/training_images/videos/tmp2'\n",
        "%mkdir /content/drive/My\\ Drive/training_images/videos/tmp3\n",
        "%mv '/content/drive/My Drive/training_images/videos/tmp1' '/content/drive/My Drive/training_images/videos/tmp3'\n",
        "%mv '/content/drive/My Drive/training_images/videos/tmp2' '/content/drive/My Drive/training_images/videos/tmp3'\n",
        "%mkdir /content/drive/My\\ Drive/training_images/videos/tmp4"
      ],
      "execution_count": null,
      "outputs": []
    },
    {
      "cell_type": "markdown",
      "metadata": {
        "id": "UblFeAQ017g8"
      },
      "source": [
        "Mover los videos desde las carpetas con mkv y mp4 a una carpeta que los agrupa"
      ]
    },
    {
      "cell_type": "code",
      "metadata": {
        "id": "hbFb-3xkIXFe"
      },
      "source": [
        "%cp -r '/content/drive/My Drive/training_images/videos/tmp3/tmp1/'*.mkv '/content/drive/My Drive/training_images/videos/tmp4'\n",
        "%cp -r '/content/drive/My Drive/training_images/videos/tmp3/tmp2/'*.mp4 '/content/drive/My Drive/training_images/videos/tmp4'\n",
        "%cd /content/drive/My Drive/training_images/videos/tmp4"
      ],
      "execution_count": null,
      "outputs": []
    },
    {
      "cell_type": "markdown",
      "metadata": {
        "id": "NyR0Potu081P"
      },
      "source": [
        "Con estos script se toman los archivos de una carpeta, se ordenan por nombre y se les cambia el nombre de acuerdo al orden alfabético, con un número desd el 0 o el 1"
      ]
    },
    {
      "cell_type": "code",
      "metadata": {
        "id": "jd3TvG8a3y9X"
      },
      "source": [
        "import os\n",
        "from os import path\n",
        "import shutil\n",
        "\n",
        "Source_Path = '/content/drive/My Drive/training_images/videos/tmp3/tmp1/'\n",
        "Destination = '/content/drive/My Drive/training_images/videos/tmp3/tmp1/'\n",
        "#dst_folder = os.mkdir(Destination)\n",
        "\n",
        "\n",
        "def main():\n",
        "    for count, filename in enumerate(os.listdir(Source_Path)):\n",
        "        dst =  \"video\" + \"_\" + str(count+1) + \".mkv\"\n",
        "\n",
        "        # rename all the files\n",
        "        os.rename(os.path.join(Source_Path, filename),  os.path.join(Destination, dst))\n",
        "\n",
        "\n",
        "# Driver Code\n",
        "if __name__ == '__main__':\n",
        "    main()"
      ],
      "execution_count": null,
      "outputs": []
    },
    {
      "cell_type": "code",
      "metadata": {
        "id": "djLHPEyHEwjY"
      },
      "source": [
        "import os\n",
        "from os import path\n",
        "import shutil\n",
        "\n",
        "Source_Path = '/content/drive/My Drive/training_images/videos/tmp3/tmp2/'\n",
        "Destination = '/content/drive/My Drive/training_images/videos/tmp3/tmp2/'\n",
        "#dst_folder = os.mkdir(Destination)\n",
        "\n",
        "\n",
        "def main():\n",
        "    for count, filename in enumerate(os.listdir(Source_Path)):\n",
        "        dst =  \"video\" + \"_\" + str(count+1) + \".mp4\"\n",
        "\n",
        "        # rename all the files\n",
        "        os.rename(os.path.join(Source_Path, filename),  os.path.join(Destination, dst))\n",
        "\n",
        "\n",
        "# Driver Code\n",
        "if __name__ == '__main__':\n",
        "    main()"
      ],
      "execution_count": null,
      "outputs": []
    },
    {
      "cell_type": "markdown",
      "metadata": {
        "id": "8c8bMJyi2O6X"
      },
      "source": [
        "condensa todos los videos de una carpeta, de la misma extensión, en un solo video final"
      ]
    },
    {
      "cell_type": "code",
      "metadata": {
        "id": "Ug4H2U5U24WN"
      },
      "source": [
        "from moviepy.editor import *\n",
        "import os\n",
        "from natsort import natsorted\n",
        "\n",
        "L =[]\n",
        "\n",
        "for root, dirs, files in os.walk(\"/content/drive/My Drive/training_images/videos/tmp4\"):\n",
        "\n",
        "    #files.sort()\n",
        "    files = natsorted(files)\n",
        "    for file in files:\n",
        "        if os.path.splitext(file)[1] == '.mp4':\n",
        "            filePath = os.path.join(root, file)\n",
        "            video = VideoFileClip(filePath)\n",
        "            L.append(video)\n",
        "\n",
        "final_clip = concatenate_videoclips(L)\n",
        "final_clip.to_videofile(\"output.mp4\", fps=24, remove_temp=False)"
      ],
      "execution_count": null,
      "outputs": []
    },
    {
      "cell_type": "code",
      "metadata": {
        "id": "syhqoYh1gwJA"
      },
      "source": [
        "from moviepy.editor import *\n",
        "import os\n",
        "from natsort import natsorted\n",
        "\n",
        "L =[]\n",
        "\n",
        "for root, dirs, files in os.walk(\"/content/drive/My Drive/training_images/videos/tmp4\"):\n",
        "\n",
        "    #files.sort()\n",
        "    files = natsorted(files)\n",
        "    for file in files:\n",
        "        if os.path.splitext(file)[1] == '.mkv':\n",
        "            filePath = os.path.join(root, file)\n",
        "            video = VideoFileClip(filePath)\n",
        "            L.append(video)\n",
        "\n",
        "final_clip = concatenate_videoclips(L)\n",
        "final_clip.to_videofile(\"output.mkv\", fps=24, remove_temp=False)"
      ],
      "execution_count": null,
      "outputs": []
    },
    {
      "cell_type": "markdown",
      "metadata": {
        "id": "C99ih93C1yj8"
      },
      "source": [
        "# Trabajo edición de video a imagen a etiquetado\n",
        "\n"
      ]
    },
    {
      "cell_type": "markdown",
      "metadata": {
        "id": "swa98_LY4epS"
      },
      "source": [
        "cambiar directorio al de los videos compilados"
      ]
    },
    {
      "cell_type": "code",
      "metadata": {
        "id": "KfLq3zgl8Cqt"
      },
      "source": [
        "%cd /content/drive/My Drive/training_images/videos/tmp4"
      ],
      "execution_count": null,
      "outputs": []
    },
    {
      "cell_type": "markdown",
      "metadata": {
        "id": "MMLBHz1x4lOl"
      },
      "source": [
        "revisar listado"
      ]
    },
    {
      "cell_type": "code",
      "metadata": {
        "id": "SpY5iz3SKubi"
      },
      "source": [
        "%ls"
      ],
      "execution_count": null,
      "outputs": []
    },
    {
      "cell_type": "markdown",
      "metadata": {
        "id": "BcHA6WFR4nGH"
      },
      "source": [
        "extraer frames de los videos a jpg. 0.5 = 1 frame por cada 0.5 segundos, 1 = 1 frame por segundo, 2 = 1 frame por cada 2 segundos"
      ]
    },
    {
      "cell_type": "code",
      "metadata": {
        "id": "wsvT1bjO8A_u"
      },
      "source": [
        "import cv2\n",
        "vidcap = cv2.VideoCapture('output.mp4')\n",
        "def getFrame(sec):\n",
        "    vidcap.set(cv2.CAP_PROP_POS_MSEC,sec*1000)\n",
        "    hasFrames,image = vidcap.read()\n",
        "    if hasFrames:\n",
        "        cv2.imwrite(str(count-1)+ \"mp4\" + \".jpg\", image)     # save frame as JPG file\n",
        "    return hasFrames\n",
        "sec = 0\n",
        "frameRate = 2 #//it will capture image in each 1 second\n",
        "count=1\n",
        "success = getFrame(sec)\n",
        "while success:\n",
        "    count = count + 1\n",
        "    sec = sec + frameRate\n",
        "    sec = round(sec, 2)\n",
        "    success = getFrame(sec)"
      ],
      "execution_count": null,
      "outputs": []
    },
    {
      "cell_type": "code",
      "metadata": {
        "id": "0pf14Wd15BbJ"
      },
      "source": [
        "import cv2\n",
        "vidcap = cv2.VideoCapture('output.mkv')\n",
        "def getFrame(sec):\n",
        "    vidcap.set(cv2.CAP_PROP_POS_MSEC,sec*1000)\n",
        "    hasFrames,image = vidcap.read()\n",
        "    if hasFrames:\n",
        "        cv2.imwrite(str(count-1)+ \"mkv\" + \".jpg\", image)     # save frame as JPG file\n",
        "    return hasFrames\n",
        "sec = 0\n",
        "frameRate = 2 #//it will capture image in each 1 second\n",
        "count=1\n",
        "success = getFrame(sec)\n",
        "while success:\n",
        "    count = count + 1\n",
        "    sec = sec + frameRate\n",
        "    sec = round(sec, 2)\n",
        "    success = getFrame(sec)"
      ],
      "execution_count": null,
      "outputs": []
    },
    {
      "cell_type": "markdown",
      "metadata": {
        "id": "B1G7cOpm5cMW"
      },
      "source": [
        "# Anotación automática de las imágenes utilizando un modelo propio"
      ]
    },
    {
      "cell_type": "markdown",
      "metadata": {
        "id": "j912OgAz50YO"
      },
      "source": [
        "cambiar dirección de descarga del repo. los scripts están hechos para funcionar con esa carpeta de raíz."
      ]
    },
    {
      "cell_type": "code",
      "metadata": {
        "id": "v5Me5HEJBKsL"
      },
      "source": [
        "%cd /content"
      ],
      "execution_count": null,
      "outputs": []
    },
    {
      "cell_type": "markdown",
      "metadata": {
        "id": "GxTOWz4B6BXf"
      },
      "source": [
        "descargar repo a local"
      ]
    },
    {
      "cell_type": "code",
      "metadata": {
        "id": "zagx9DTAAde-"
      },
      "source": [
        "!git clone https://github.com/AlvaroCavalcante/auto_annotate"
      ],
      "execution_count": null,
      "outputs": []
    },
    {
      "cell_type": "markdown",
      "metadata": {
        "id": "0_z1ZSH56FDc"
      },
      "source": [
        "cambiar carpeta a la que contiene los scripts del object_detection"
      ]
    },
    {
      "cell_type": "code",
      "metadata": {
        "id": "tF4a1XibXCqm"
      },
      "source": [
        "%cd /content/models/research/object_detection/utils"
      ],
      "execution_count": null,
      "outputs": []
    },
    {
      "cell_type": "markdown",
      "metadata": {
        "id": "Yc4I1nVa6MTD"
      },
      "source": [
        "cambiar nombre del script que se reemplazará. alternativa a borrarlo"
      ]
    },
    {
      "cell_type": "code",
      "metadata": {
        "id": "j0bZtv4mXM1e"
      },
      "source": [
        "%mv \"visualization_utils.py\" \"visualization_utils22.py\""
      ],
      "execution_count": null,
      "outputs": []
    },
    {
      "cell_type": "markdown",
      "metadata": {
        "id": "OJZlkv3O6TfQ"
      },
      "source": [
        "cambiar a la carpeta de scripts del repo"
      ]
    },
    {
      "cell_type": "code",
      "metadata": {
        "id": "sLfk63xrBz7b"
      },
      "source": [
        "%cd /content/auto_annotate/scripts"
      ],
      "execution_count": null,
      "outputs": []
    },
    {
      "cell_type": "markdown",
      "metadata": {
        "id": "Lt1zCORA6Z8l"
      },
      "source": [
        "mandar script de la repo al object_detection"
      ]
    },
    {
      "cell_type": "code",
      "metadata": {
        "id": "dFkchb9MCMz-"
      },
      "source": [
        "%cp -r visualization_utils.py '/content/models/research/object_detection/utils'"
      ],
      "execution_count": null,
      "outputs": []
    },
    {
      "cell_type": "markdown",
      "metadata": {
        "id": "yAFrUXZt6fWC"
      },
      "source": [
        "mandar script modificado desde mi drive al object_detectiom"
      ]
    },
    {
      "cell_type": "code",
      "metadata": {
        "id": "yeVp4sSDZCun"
      },
      "source": [
        "%cp '/content/drive/My Drive/scripts/generate_xml.py' '/content/models/research/object_detection/utils'"
      ],
      "execution_count": null,
      "outputs": []
    },
    {
      "cell_type": "markdown",
      "metadata": {
        "id": "6EZDbGbY6mis"
      },
      "source": [
        "cambiar a carpeta de mi drive con el modelo propio y su archivo de etiquetas de objetos"
      ]
    },
    {
      "cell_type": "code",
      "metadata": {
        "id": "TMlXFpF3EIOF"
      },
      "source": [
        "%cd /content/drive/My Drive/Colab_tensorflow/colab_8_11_2020/resultados_221672"
      ],
      "execution_count": null,
      "outputs": []
    },
    {
      "cell_type": "markdown",
      "metadata": {
        "id": "oc-QZHHv63H6"
      },
      "source": [
        "mandar gráfico y etiquetas a la carpeta correspondiente del repo"
      ]
    },
    {
      "cell_type": "code",
      "metadata": {
        "id": "RCcXs295ELa6"
      },
      "source": [
        "%cp frozen_inference_graph.pb label_map.pbtxt '/content/auto_annotate/graphs'"
      ],
      "execution_count": null,
      "outputs": []
    },
    {
      "cell_type": "markdown",
      "metadata": {
        "id": "3FwdeFzi6-TD"
      },
      "source": [
        "instalar el elementtree para anotar los archivos .xml de cada imagen"
      ]
    },
    {
      "cell_type": "code",
      "metadata": {
        "id": "9fdQfWaWUCZG"
      },
      "source": [
        "!pip install http://effbot.org/media/downloads/elementtree-1.2.6-20050316.zip"
      ],
      "execution_count": null,
      "outputs": []
    },
    {
      "cell_type": "code",
      "metadata": {
        "id": "kCk9YI8yc1Bf"
      },
      "source": [
        "!pip install elementtree -vvv"
      ],
      "execution_count": null,
      "outputs": []
    },
    {
      "cell_type": "markdown",
      "metadata": {
        "id": "Z4waH8LS7LKJ"
      },
      "source": [
        "limpiar las carpetas de destino, ya que los readme cagan la corrida de los scripts"
      ]
    },
    {
      "cell_type": "code",
      "metadata": {
        "id": "4tnzKYsc0KVA"
      },
      "source": [
        "import os\n",
        "!rm -rf {'/content/auto_annotate/xml'}\n",
        "!rm -rf {'/content/auto_annotate/results'}\n",
        "!rm -rf {'/content/auto_annotate/images'}\n",
        "os.makedirs('/content/auto_annotate/xml', exist_ok=True)\n",
        "os.makedirs('/content/auto_annotate/images', exist_ok=True)\n",
        "os.makedirs('/content/auto_annotate/results', exist_ok=True)"
      ],
      "execution_count": null,
      "outputs": []
    },
    {
      "cell_type": "markdown",
      "metadata": {
        "id": "TFgDqMtt7VWE"
      },
      "source": [
        "pasar las imagenes obtenidas de los videos a la carpeta correspondientes del repo"
      ]
    },
    {
      "cell_type": "code",
      "metadata": {
        "id": "-5_kxfwfFKXJ"
      },
      "source": [
        "%cp -r '/content/drive/My Drive/Videos2/'*.jpg '/content/auto_annotate/images'"
      ],
      "execution_count": null,
      "outputs": []
    },
    {
      "cell_type": "markdown",
      "metadata": {
        "id": "HzuMc0gx7fJE"
      },
      "source": [
        "cambiar el script principal de carpeta, para que corra correctamente"
      ]
    },
    {
      "cell_type": "code",
      "metadata": {
        "id": "GlfjuQifYJp7"
      },
      "source": [
        "%mv '/content/auto_annotate/scripts/detection_images.py' '/content/auto_annotate'"
      ],
      "execution_count": null,
      "outputs": []
    },
    {
      "cell_type": "markdown",
      "metadata": {
        "id": "2B6S20ss7lY2"
      },
      "source": [
        "cambiar carpeta a la del script principal"
      ]
    },
    {
      "cell_type": "code",
      "metadata": {
        "id": "9o8wuLpgx_a7"
      },
      "source": [
        "%cd /content/auto_annotate"
      ],
      "execution_count": null,
      "outputs": []
    },
    {
      "cell_type": "markdown",
      "metadata": {
        "id": "V2Y1OqRM7uU2"
      },
      "source": [
        "correr script"
      ]
    },
    {
      "cell_type": "code",
      "metadata": {
        "id": "zvm3BWaBJir4"
      },
      "source": [
        "!python3 detection_images.py"
      ],
      "execution_count": null,
      "outputs": []
    },
    {
      "cell_type": "markdown",
      "metadata": {
        "id": "jAYizVg27yqS"
      },
      "source": [
        "mandar los .xml a la carpeta que tiene los resultados de imagenes"
      ]
    },
    {
      "cell_type": "code",
      "metadata": {
        "id": "Xcix5Rzs2cD8"
      },
      "source": [
        "%cp -r '/content/auto_annotate/xml/'*.xml '/content/auto_annotate/results'"
      ],
      "execution_count": null,
      "outputs": []
    },
    {
      "cell_type": "markdown",
      "metadata": {
        "id": "tA-3SjRN76jz"
      },
      "source": [
        "copiar los resultados de local a mi drive. **Modificar la carpeta, que se crea automática**. Si ya existe, se crea una subcarpeta y eso no me gusta"
      ]
    },
    {
      "cell_type": "code",
      "metadata": {
        "id": "ha342AgU70ac"
      },
      "source": [
        "%cp -r '/content/auto_annotate/results' '/content/drive/My Drive/partial_outc5'"
      ],
      "execution_count": null,
      "outputs": []
    },
    {
      "cell_type": "markdown",
      "metadata": {
        "id": "d2n1ZBOlq3ch"
      },
      "source": [
        "**Eliminar las imagenes sin cuadros de detección en la carpeta de arriba** directo en el drive- Chequear que el número de jpg y xml correspondan."
      ]
    },
    {
      "cell_type": "markdown",
      "metadata": {
        "id": "VcRl7Hx18rOg"
      },
      "source": [
        "Abajo, se mueven los archivos que tienen cuadros de detección a una carpeta temporal. Estos no coinciden con los xml, entonces se necesita renombrarlos."
      ]
    },
    {
      "cell_type": "code",
      "metadata": {
        "id": "jNoPbnu-rDd3"
      },
      "source": [
        "%mkdir /content/auto_annotate/temp\n",
        "%cp -r '/content/drive/My Drive/partial_outc5/'*.jpg '/content/auto_annotate/temp'\n",
        "%cd /content/auto_annotate/temp"
      ],
      "execution_count": null,
      "outputs": []
    },
    {
      "cell_type": "markdown",
      "metadata": {
        "id": "LFIXe62p9HCI"
      },
      "source": [
        "Renombrar los jpg para que coincidan con los xml. Se envían a la carpeta que tiene los xml originales."
      ]
    },
    {
      "cell_type": "code",
      "metadata": {
        "id": "ZCBb0W45ogV5"
      },
      "source": [
        "import os\n",
        "from os import path\n",
        "import shutil\n",
        "\n",
        "Source_Path = '/content/auto_annotate/temp'\n",
        "Destination = '/content/auto_annotate/xml'\n",
        "#dst_folder = os.mkdir(Destination)\n",
        "\n",
        "\n",
        "def main():\n",
        "    for count, filename in enumerate(os.listdir(Source_Path)):\n",
        "        dst =  \"image\" + \"_\" + str(count+1) + \".jpg\"\n",
        "\n",
        "        # rename all the files\n",
        "        os.rename(os.path.join(Source_Path, filename),  os.path.join(Destination, dst))\n",
        "\n",
        "\n",
        "# Driver Code\n",
        "if __name__ == '__main__':\n",
        "    main()"
      ],
      "execution_count": null,
      "outputs": []
    },
    {
      "cell_type": "markdown",
      "metadata": {
        "id": "9M3_OPL79bCS"
      },
      "source": [
        "se copian los xml y los jpg a una carpeta nueva en el Drive. Están listos para correr análisis con ellos."
      ]
    },
    {
      "cell_type": "code",
      "metadata": {
        "id": "E7ErRwj6syXg"
      },
      "source": [
        "%cp -r '/content/auto_annotate/xml' '/content/drive/My Drive/training_images/1'"
      ],
      "execution_count": null,
      "outputs": []
    },
    {
      "cell_type": "markdown",
      "metadata": {
        "id": "e3vWtKKZ9z15"
      },
      "source": [
        "alternativamente, se puede devolver el script de abajo al original"
      ]
    },
    {
      "cell_type": "code",
      "metadata": {
        "id": "E8ngPaqvewtd"
      },
      "source": [
        "%rm - r /content/models/research/object_detection/utils/visualization_utils22.py\n",
        "%mv \"visualization_utils22.py\" \"visualization_utils.py\""
      ],
      "execution_count": null,
      "outputs": []
    },
    {
      "cell_type": "markdown",
      "metadata": {
        "id": "icINBqne_VlC"
      },
      "source": [
        "# De aquí hacia abajo no usar, son solo pruebas"
      ]
    },
    {
      "cell_type": "code",
      "metadata": {
        "id": "2BCO0GC2_VlD"
      },
      "source": [
        "!toco \\\n",
        "--graph_def_file='/content/test/tflite_graph.pb' \\\n",
        "--output_file='/content/test/detect.tflite' \\\n",
        "--input_shapes=1,300,300,3 \\\n",
        "--input_arrays=normalized_input_image_tensor \\\n",
        "--output_arrays='TFLite_Detection_PostProcess','TFLite_Detection_PostProcess:1','TFLite_Detection_PostProcess:2','TFLite_Detection_PostProcess:3' \\\n",
        "--inference_type=QUANTIZED_UINT8 \\\n",
        "--mean_values=128 \\\n",
        "--std_dev_values=128 \\\n",
        "--change_concat_input_ranges=false \\\n",
        "--allow_custom_ops"
      ],
      "execution_count": null,
      "outputs": []
    },
    {
      "cell_type": "markdown",
      "metadata": {
        "id": "xCVx6X_q_VlH"
      },
      "source": [
        "este es floating point"
      ]
    },
    {
      "cell_type": "code",
      "metadata": {
        "id": "mbkPFcYh_VlH"
      },
      "source": [
        "last_model_path = os.path.join(model_dir, last_model)\n",
        "print(last_model_path)\n",
        "!python /content/models/research/object_detection/export_tflite_ssd_graph.py \\\n",
        "   --pipeline_config_path={pipeline_fname} \\\n",
        "  --output_directory={output_directory} \\\n",
        "  --trained_checkpoint_prefix={last_model_path}"
      ],
      "execution_count": null,
      "outputs": []
    },
    {
      "cell_type": "code",
      "metadata": {
        "id": "cSF8qyRz_VlK"
      },
      "source": [
        "!python /content/models/research/object_detection/export_tflite_ssd_graph.py \\\n",
        "--pipeline_config_path={pipeline_fname} \\\n",
        "--trained_checkpoint_prefix '/content/models/research/training/model.ckpt-1000' \\\n",
        "--output_directory={output_directory} \\\n",
        "--add_postprocessing_op=True \n",
        "--max_detections=10"
      ],
      "execution_count": null,
      "outputs": []
    },
    {
      "cell_type": "code",
      "metadata": {
        "id": "e77fz4S2_VlN"
      },
      "source": [
        "last_model_path = '/content/models/research/training'\n",
        "print(last_model_path)\n",
        "\n",
        "!python /content/models/research/object_detection/export_tflite_ssd_graph.py \\\n",
        "--pipeline_config_path='/content/models/research/training/pipeline.config' \\\n",
        "--output_directory={output_directory} \\\n",
        "--trained_checkpoint_prefix='/content/models/research/training/model.ckpt-20000.index' \\\n",
        "--add_postprocessing_op=True \\\n",
        "--max_detections=10\n"
      ],
      "execution_count": null,
      "outputs": []
    },
    {
      "cell_type": "code",
      "metadata": {
        "id": "NC0xjnrO_VlX"
      },
      "source": [
        "from google.colab import files\n",
        "files.download(label_map_pbtxt_fname)"
      ],
      "execution_count": null,
      "outputs": []
    },
    {
      "cell_type": "code",
      "metadata": {
        "id": "MQVOUz3E_Vlf"
      },
      "source": [
        "files.download(pipeline_fname)"
      ],
      "execution_count": null,
      "outputs": []
    },
    {
      "cell_type": "code",
      "metadata": {
        "id": "ruAey_Vo_Vlk"
      },
      "source": [
        "# !tar cfz fine_tuned_model.tar.gz fine_tuned_model\n",
        "# from google.colab import files\n",
        "# files.download('fine_tuned_model.tar.gz')"
      ],
      "execution_count": null,
      "outputs": []
    }
  ]
}